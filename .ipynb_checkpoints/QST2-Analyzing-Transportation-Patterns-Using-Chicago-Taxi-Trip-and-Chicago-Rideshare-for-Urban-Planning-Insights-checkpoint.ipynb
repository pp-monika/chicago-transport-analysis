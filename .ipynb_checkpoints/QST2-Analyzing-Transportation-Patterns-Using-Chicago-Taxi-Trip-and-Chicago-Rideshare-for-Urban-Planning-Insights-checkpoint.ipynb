{
 "cells": [
  {
   "cell_type": "markdown",
   "id": "046b030f-a507-499f-863e-1d05887b4845",
   "metadata": {},
   "source": [
    "# Analyzing Transportation Patterns Using Chicago Taxi Trip and Chicago Rideshare for Urban Planning Insights"
   ]
  },
  {
   "cell_type": "markdown",
   "id": "ae04d774-3d46-48d6-83b9-9383cae2d9d8",
   "metadata": {},
   "source": [
    "Urban planning is an important aspect of designing cities to meet the infrastructure needed to support the livelihood of tens of millions of residents. Transportation in particular has a critical impact on people’s decision to accept employment, how they spend their time, places they visit, and even business locations. This exploration of Chicago taxi and ride share service data will provide an insight on traffic conditions, travel expenses, and hotspots for visitation in the city which can be used for city planning purposes."
   ]
  },
  {
   "cell_type": "markdown",
   "id": "268484c2-2c72-4b6d-83a5-8228d06c3a26",
   "metadata": {},
   "source": [
    "**Group Members**\n",
    "1. Monika Phuengmak\n",
    "2. Winny \n",
    "3. Syeda Aqeel"
   ]
  },
  {
   "cell_type": "markdown",
   "id": "14e293d3-119f-4c29-a88c-a36c4246f365",
   "metadata": {},
   "source": [
    "## 1. Problem Definition\n",
    "This project aims to analyze Chicago’s taxi and rideshare data from 2018 to 2023 to generate actionable insights that support urban planning, enhance traffic management, and optimize transportation services. By identifying peak demand zones, assessing traffic congestion effects on trip durations, and analyzing fare trends across variables such as time, location, and service type, the project seeks to provide data-driven recommendations to improve mobility, reduce congestion, and better meet the transportation needs of Chicago’s residents and visitors."
   ]
  },
  {
   "cell_type": "markdown",
   "id": "9c4396e9-2fe1-4996-ada2-55eef743a932",
   "metadata": {},
   "source": [
    "## 2. Data Sources\n",
    "- Chicago Taxi Trips from 2013 to 2023: [link](https://data.cityofchicago.org/Transportation/Taxi-Trips-2013-2023-/wrvz-psew/about_data)\n",
    "- Chicago Transportation Network Providers Trip: from 2018 to 2022: [link](https://data.cityofchicago.org/Transportation/Transportation-Network-Providers-Trips-2018-2022-/m6dm-c72p/about_data)\n",
    "- Chicago Transportation Network Providers Trip: from 2023 to present: [link](https://data.cityofchicago.org/Transportation/Transportation-Network-Providers-Trips-2023-/n26f-ihde/about_data)\n",
    "- Chicago Community Area: [link](https://data.cityofchicago.org/Facilities-Geographic-Boundaries/Boundaries-Community-Areas-current-/cauq-8yn6)"
   ]
  },
  {
   "cell_type": "markdown",
   "id": "2c08d856-bb5f-4cb5-8c95-d7ef26fb9fdf",
   "metadata": {},
   "source": [
    "### Chicago Taxi Trips\n",
    "\n",
    "This dataset reflects taxi trips reported to the City of Chicago in its role as a regulatory agency. To protect privacy but allow for aggregate analyses, the Taxi ID is consistent for any given taxi medallion number but does not show the number. Census Tracts are suppressed in some cases for privacy. Due to the data reporting process, not all trips are reported but the City believes that most are."
   ]
  },
  {
   "cell_type": "markdown",
   "id": "9bda28c7-013e-40d7-8dd7-2f027fea3092",
   "metadata": {},
   "source": [
    "**Columns in this dataset**\n",
    "\n",
    "|Column name|Description|Type|\n",
    "|--|--|--|\n",
    "|Trip ID|A unique identifier for the trip.|String|\n",
    "|Taxi ID|A unique identifier for the taxi.|String|\n",
    "|Trip Start Timestamp|Date and time when the trip started, rounded to the nearest 15 minutes.|Timestamp|\n",
    "|Trip End Timestamp|Date and time when the trip ended, rounded to the nearest 15 minutes.|Timestamp|\n",
    "|Trip Seconds|Duration of the trip in seconds.|Integer|\n",
    "|Trip Miles|Distance of the trip in miles.|Integer|\n",
    "|Pickup Census Tract|The Census Tract where the trip began. For privacy, this Census Tract is not shown for some trips. This column often will be blank for locations outside Chicago.|Number|\n",
    "|Dropoff Census Tract|The Census Tract where the trip ended. For privacy, this Census Tract is not shown for some trips. This column often will be blank for locations outside Chicago.|Number|\n",
    "|Pickup Community Area|The Community Area where the trip began. This column will be blank for locations outside Chicago.|Integer|\n",
    "|Pickup Community Area|The Community Area where the trip began. This column will be blank for locations outside Chicago.|Integer|\n",
    "|Dropoff Community Area|The Community Area where the trip ended. This column will be blank for locations outside Chicago.|Integer|\n",
    "|Fare|The fare for the trip.|Integer|\n",
    "|Tips|The tip for the trip. Cash tips generally will not be recorded.|Integer|\n",
    "|Tolls|The tolls for the trip.|Integer|\n",
    "|Extras|Extra charges for the trip. This generally includes airport surcharges, late-night or rush hour surcharges, credit card processing fee, and other surcharges.|Integer|\n",
    "|Trip Total|Total cost of the trip calculated from are, tips, tolls, and extras.|Integer|\n",
    "|Payment Type|Type of payment for the trip.|String|\n",
    "|Company|The taxi company.|String|\n",
    "|Pickup Centroid Latitude|The latitude of the center of the pickup census tract or the community area if the census tract has been hidden for privacy. This column often will be blank for locations outside Chicago.|Double|\n",
    "|Pickup Centroid Longitude|The longitude of the center of the pickup census tract or the community area if the census tract has been hidden for privacy. This column often will be blank for locations outside Chicago.|Double|\n",
    "|Pickup Centroid Location|The location of the center of the pickup census tract or the community area if the census tract has been hidden for privacy. This column often will be blank for locations outside Chicago.|Point|\n",
    "|Dropoff Centroid Latitude|The latitude of the center of the dropoff census tract or the community area if the census tract has been hidden for privacy. This column often will be blank for locations outside Chicago.|Double|\n",
    "|Dropoff Centroid Longitude|The longitude of the center of the dropoff census tract or the community area if the census tract has been hidden for privacy. This column often will be blank for locations outside Chicago.|Double|\n",
    "|Dropoff Centroid Location|The location of the center of the dropoff census tract or the community area if the census tract has been hidden for privacy. This column often will be blank for locations outside Chicago.|Point|"
   ]
  },
  {
   "cell_type": "markdown",
   "id": "a3e5ee71-5006-45ad-ab3a-5ef791b3ff71",
   "metadata": {},
   "source": [
    "Download data from Google Cloud Bucket:"
   ]
  },
  {
   "cell_type": "code",
   "execution_count": 3,
   "id": "c3f2dca4-1cb7-4797-8a23-603359b04894",
   "metadata": {},
   "outputs": [
    {
     "ename": "NameError",
     "evalue": "name 'spark' is not defined",
     "output_type": "error",
     "traceback": [
      "\u001b[0;31m---------------------------------------------------------------------------\u001b[0m",
      "\u001b[0;31mNameError\u001b[0m                                 Traceback (most recent call last)",
      "\u001b[0;32m/tmp/ipykernel_9776/3478516021.py\u001b[0m in \u001b[0;36m<cell line: 2>\u001b[0;34m()\u001b[0m\n\u001b[1;32m      1\u001b[0m \u001b[0;31m# the following line gets the bucket name attached to our cluster\u001b[0m\u001b[0;34m\u001b[0m\u001b[0;34m\u001b[0m\u001b[0m\n\u001b[0;32m----> 2\u001b[0;31m \u001b[0mbucket\u001b[0m \u001b[0;34m=\u001b[0m \u001b[0mspark\u001b[0m\u001b[0;34m.\u001b[0m\u001b[0m_jsc\u001b[0m\u001b[0;34m.\u001b[0m\u001b[0mhadoopConfiguration\u001b[0m\u001b[0;34m(\u001b[0m\u001b[0;34m)\u001b[0m\u001b[0;34m.\u001b[0m\u001b[0mget\u001b[0m\u001b[0;34m(\u001b[0m\u001b[0;34m\"fs.gs.system.bucket\"\u001b[0m\u001b[0;34m)\u001b[0m\u001b[0;34m\u001b[0m\u001b[0;34m\u001b[0m\u001b[0m\n\u001b[0m\u001b[1;32m      3\u001b[0m \u001b[0;34m\u001b[0m\u001b[0m\n\u001b[1;32m      4\u001b[0m \u001b[0;31m# specifying the path to our bucket where the data is located (no need to edit this path anymore)\u001b[0m\u001b[0;34m\u001b[0m\u001b[0;34m\u001b[0m\u001b[0m\n\u001b[1;32m      5\u001b[0m \u001b[0mdata\u001b[0m \u001b[0;34m=\u001b[0m \u001b[0;34m\"gs://\"\u001b[0m \u001b[0;34m+\u001b[0m \u001b[0mbucket\u001b[0m \u001b[0;34m+\u001b[0m \u001b[0;34m\"/data/chicago-taxi-trip/chicago-taxi-0000000000*\"\u001b[0m\u001b[0;34m\u001b[0m\u001b[0;34m\u001b[0m\u001b[0m\n",
      "\u001b[0;31mNameError\u001b[0m: name 'spark' is not defined"
     ]
    }
   ],
   "source": [
    "# the following line gets the bucket name attached to our cluster\n",
    "bucket = spark._jsc.hadoopConfiguration().get(\"fs.gs.system.bucket\")\n",
    "\n",
    "# specifying the path to our bucket where the data is located (no need to edit this path anymore)\n",
    "data = \"gs://\" + bucket + \"/data/chicago-taxi-trip/chicago-taxi-0000000000*\"\n",
    "print(data)"
   ]
  },
  {
   "cell_type": "code",
   "execution_count": null,
   "id": "dfaf80c6-5d69-4ef1-b3d4-125ae469987c",
   "metadata": {},
   "outputs": [],
   "source": []
  }
 ],
 "metadata": {
  "kernelspec": {
   "display_name": "Python 3",
   "language": "python",
   "name": "python3"
  },
  "language_info": {
   "codemirror_mode": {
    "name": "ipython",
    "version": 3
   },
   "file_extension": ".py",
   "mimetype": "text/x-python",
   "name": "python",
   "nbconvert_exporter": "python",
   "pygments_lexer": "ipython3",
   "version": "3.10.8"
  }
 },
 "nbformat": 4,
 "nbformat_minor": 5
}
