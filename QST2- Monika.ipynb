{
 "cells": [
  {
   "cell_type": "markdown",
   "id": "046b030f-a507-499f-863e-1d05887b4845",
   "metadata": {},
   "source": [
    "# Analyzing Transportation Patterns Using Chicago Taxi Trip and Chicago Rideshare for Urban Planning Insights"
   ]
  },
  {
   "cell_type": "markdown",
   "id": "ae04d774-3d46-48d6-83b9-9383cae2d9d8",
   "metadata": {},
   "source": [
    "Urban planning is an important aspect of designing cities to meet the infrastructure needed to support the livelihood of tens of millions of residents. Transportation in particular has a critical impact on people’s decision to accept employment, how they spend their time, places they visit, and even business locations. This exploration of Chicago taxi and ride share service data will provide an insight on traffic conditions, travel expenses, and hotspots for visitation in the city which can be used for city planning purposes."
   ]
  },
  {
   "cell_type": "markdown",
   "id": "268484c2-2c72-4b6d-83a5-8228d06c3a26",
   "metadata": {},
   "source": [
    "**Group Members**\n",
    "1. Monika Phuengmak\n",
    "2. Winni Tai \n",
    "3. Syeda Aqeel"
   ]
  },
  {
   "cell_type": "markdown",
   "id": "14e293d3-119f-4c29-a88c-a36c4246f365",
   "metadata": {},
   "source": [
    "## 1. Problem Definition\n",
    "This project aims to analyze Chicago’s taxi and rideshare data from 2018 to 2023 to generate actionable insights that support urban planning, enhance traffic management, and optimize transportation services. By identifying peak demand zones, assessing traffic congestion effects on trip durations, and analyzing fare trends across variables such as time, location, and service type, the project seeks to provide data-driven recommendations to improve mobility, reduce congestion, and better meet the transportation needs of Chicago’s residents and visitors."
   ]
  },
  {
   "cell_type": "markdown",
   "id": "9c4396e9-2fe1-4996-ada2-55eef743a932",
   "metadata": {},
   "source": [
    "## 2. Data Sources\n",
    "- Chicago Taxi Trips from 2013 to 2023: [link](https://data.cityofchicago.org/Transportation/Taxi-Trips-2013-2023-/wrvz-psew/about_data)\n",
    "- Chicago Transportation Network Providers Trip: from 2018 to 2022: [link](https://data.cityofchicago.org/Transportation/Transportation-Network-Providers-Trips-2018-2022-/m6dm-c72p/about_data)\n",
    "- Chicago Transportation Network Providers Trip: from 2023 to present: [link](https://data.cityofchicago.org/Transportation/Transportation-Network-Providers-Trips-2023-/n26f-ihde/about_data)\n",
    "- Chicago Community Area: [link](https://data.cityofchicago.org/Facilities-Geographic-Boundaries/Boundaries-Community-Areas-current-/cauq-8yn6)"
   ]
  },
  {
   "cell_type": "markdown",
   "id": "2c08d856-bb5f-4cb5-8c95-d7ef26fb9fdf",
   "metadata": {},
   "source": [
    "### Chicago Taxi Trips Data 2013-2023\n",
    "\n",
    "This dataset reflects taxi trips reported to the City of Chicago in its role as a regulatory agency. To protect privacy but allow for aggregate analyses, the Taxi ID is consistent for any given taxi medallion number but does not show the number. Census Tracts are suppressed in some cases for privacy. Due to the data reporting process, not all trips are reported but the City believes that most are."
   ]
  },
  {
   "cell_type": "markdown",
   "id": "9bda28c7-013e-40d7-8dd7-2f027fea3092",
   "metadata": {},
   "source": [
    "**Columns in this dataset**\n",
    "\n",
    "|Column name|Description|Type|\n",
    "|--|--|--|\n",
    "|trip_id|A unique identifier for the trip. Initially called unique_key, but it will be renamed to trip_id.|String|\n",
    "|taxi_id|A unique identifier for the taxi.|String|\n",
    "|trip_start_timestamp|Date and time when the trip started, rounded to the nearest 15 minutes.|Timestamp|\n",
    "|trip_end_timestamp|Date and time when the trip ended, rounded to the nearest 15 minutes.|Timestamp|\n",
    "|trip_seconds|Duration of the trip in seconds.|Integer|\n",
    "|trip_miles|Distance of the trip in miles.|Integer|\n",
    "|pickup_census_tract|The Census Tract where the trip began. For privacy, this Census Tract is not shown for some trips. This column often will be blank for locations outside Chicago.|Number|\n",
    "|dropoff_census_tract|The Census Tract where the trip ended. For privacy, this Census Tract is not shown for some trips. This column often will be blank for locations outside Chicago.|Number|\n",
    "|pickup_community_area|The Community Area where the trip began. This column will be blank for locations outside Chicago.|Integer|\n",
    "|dropoff_community_area|The Community Area where the trip ended. This column will be blank for locations outside Chicago.|Integer|\n",
    "|fare|The fare for the trip.|Double|\n",
    "|tips|The tip for the trip. Cash tips generally will not be recorded.|Double|\n",
    "|tolls|The tolls for the trip.|Double|\n",
    "|extras|Extra charges for the trip. This generally includes airport surcharges, late-night or rush hour surcharges, credit card processing fee, and other surcharges.|Double|\n",
    "|trip_total|Total cost of the trip calculated from are, tips, tolls, and extras.|Double|\n",
    "|payment_type|Type of payment for the trip.|String|\n",
    "|company|The taxi company.|String|\n",
    "|pickup_latitude|The latitude of the center of the pickup census tract or the community area if the census tract has been hidden for privacy. This column often will be blank for locations outside Chicago.|Double|\n",
    "|pickup_longitude|The longitude of the center of the pickup census tract or the community area if the census tract has been hidden for privacy. This column often will be blank for locations outside Chicago.|Double|\n",
    "|pickup_location|The location of the center of the pickup census tract or the community area if the census tract has been hidden for privacy. This column often will be blank for locations outside Chicago.|String|\n",
    "|dropoff_latitude|The latitude of the center of the dropoff census tract or the community area if the census tract has been hidden for privacy. This column often will be blank for locations outside Chicago.|Double|\n",
    "|dropoff_longitude|The longitude of the center of the dropoff census tract or the community area if the census tract has been hidden for privacy. This column often will be blank for locations outside Chicago.|Double|\n",
    "|dropoff_location|The location of the center of the dropoff census tract or the community area if the census tract has been hidden for privacy. This column often will be blank for locations outside Chicago.|String|"
   ]
  },
  {
   "cell_type": "markdown",
   "id": "456558c3-3eb4-4ccd-ac67-ab08991290bc",
   "metadata": {},
   "source": [
    "### Chicagi Transportation Network Providers 2018 - 2023\n",
    "All trips, from November 2018 to December 2022, reported by Transportation Network Providers (sometimes called rideshare companies) to the City of Chicago as part of routine reporting required by ordinance. Starting fromm 2023, the dataset contains 3 new columns, which will be noted in the column description."
   ]
  },
  {
   "cell_type": "markdown",
   "id": "4b1fbf79-7c7c-4980-a3ef-f571a9734698",
   "metadata": {},
   "source": [
    "**Columns in this dataset**\n",
    "\n",
    "|Column name|Description|Type|\n",
    "|--|--|--|\n",
    "|trip_id|A unique identifier for the trip. Initially called unique_key, but it will be renamed to trip_id.|String|\n",
    "|trip_start_timestamp|Date and time when the trip started, rounded to the nearest 15 minutes.|Timestamp|\n",
    "|trip_end_timestamp|Date and time when the trip ended, rounded to the nearest 15 minutes.|Timestamp|\n",
    "|trip_seconds|Duration of the trip in seconds.|Integer|\n",
    "|trip_miles|Distance of the trip in miles.|Integer|\n",
    "|percent_time_chicago|Percent of the trip time that was in Chicago. (NEW IN 2023 DATASET)|Integer|\n",
    "|percent_distance_chicago|Percent of the trip distance that was in Chicago. (NEW IN 2023 DATASET)|Integer|\n",
    "|pickup_census_tract|The Census Tract where the trip began. For privacy, this Census Tract is not shown for some trips. This column often will be blank for locations outside Chicago.|Number|\n",
    "|dropoff_census_tract|The Census Tract where the trip ended. For privacy, this Census Tract is not shown for some trips. This column often will be blank for locations outside Chicago.|Number|\n",
    "|pickup_community_area|The Community Area where the trip began. This column will be blank for locations outside Chicago.|Integer|\n",
    "|dropoff_community_area|The Community Area where the trip ended. This column will be blank for locations outside Chicago.|Integer|\n",
    "|fare|The fare for the trip, rounded to the nearest \\$2.50.|Double|\n",
    "|tip|The tip for the trip, rounded to the nearest $1.00. Cash tips will not be recorded.|Double|\n",
    "|additional_charges|The taxes, fees, and any other charges for the trip.|Double|\n",
    "|trip_total|Total cost of the trip calculated from fare, tips, and additional charges.|Double|\n",
    "|shared_trip_authorized|Whether the customer agreed to a shared trip with another customer, regardless of whether the customer was actually matched for a shared trip.|Boolean|\n",
    "|shared_trip_match|Whether the customer was actually matched to a shared trip. (NEW IN 2023 DATASET)|Boolean|\n",
    "|trips_pooled|If customers were matched for a shared trip, how many trips, including this one, were pooled. All customer trips from the time the vehicle was empty until it was empty again contribute to this count, even if some customers were never present in the vehicle at the same time. Each trip making up the overall shared trip will have a separate record in this dataset, with the same value in this column.|Integer|\n",
    "|pickup_centroid_latitude|The latitude of the center of the pickup census tract or the community area if the census tract has been hidden for privacy. This column often will be blank for locations outside Chicago.|Double|\n",
    "|pickup_centroid_longitude|The longitude of the center of the pickup census tract or the community area if the census tract has been hidden for privacy. This column often will be blank for locations outside Chicago.|Double|\n",
    "|pickup_centroid_location|The location of the center of the pickup census tract or the community area if the census tract has been hidden for privacy. This column often will be blank for locations outside Chicago.|String|\n",
    "|dropoff_centroid_latitude|The latitude of the center of the dropoff census tract or the community area if the census tract has been hidden for privacy. This column often will be blank for locations outside Chicago.|Double|\n",
    "|dropoff_centroid_longitude|The longitude of the center of the dropoff census tract or the community area if the census tract has been hidden for privacy. This column often will be blank for locations outside Chicago.|Double|\n",
    "|dropoff_centroid_location|The location of the center of the dropoff census tract or the community area if the census tract has been hidden for privacy. This column often will be blank for locations outside Chicago.|String|"
   ]
  },
  {
   "cell_type": "markdown",
   "id": "1b95daa4-5e67-4001-a152-08b2297eecf1",
   "metadata": {},
   "source": [
    "### Chicago Community Area Data\n",
    "Chicago City has 77 community areas in total. This dataset is used in conjunction with Chicago Taxi dataset to get the name of community area for pickup and dropoff location."
   ]
  },
  {
   "cell_type": "markdown",
   "id": "7e062326-24a6-422c-a350-483e0d6fafb4",
   "metadata": {},
   "source": [
    "**Columns in this dataset**\n",
    "\n",
    "|Column name|Description|Type|\n",
    "|--|--|--|\n",
    "|the_geom|Polygons that outline the geographic boundaries.|String|\n",
    "|AREA_NUMBE|Community area number.|Integer|\n",
    "|COMMUNITY|Community name.|String|\n",
    "|AREA_NUM_1|Community area number. Duplicates of AREA_NUMBE.|Integer|"
   ]
  },
  {
   "cell_type": "markdown",
   "id": "3fbfd863-a48d-4f8b-84f3-365cd4a5e916",
   "metadata": {},
   "source": [
    "## 3. Data Cleaning"
   ]
  },
  {
   "cell_type": "markdown",
   "id": "43e2c9ac-24da-47d0-b3ee-bf522d46ad97",
   "metadata": {},
   "source": [
    "### Chicago Taxi Dataset"
   ]
  },
  {
   "cell_type": "markdown",
   "id": "a3e5ee71-5006-45ad-ab3a-5ef791b3ff71",
   "metadata": {},
   "source": [
    "Download data from Google Cloud Bucket:"
   ]
  },
  {
   "cell_type": "code",
   "execution_count": 1,
   "id": "c3f2dca4-1cb7-4797-8a23-603359b04894",
   "metadata": {},
   "outputs": [],
   "source": [
    "bucket = spark._jsc.hadoopConfiguration().get(\"fs.gs.system.bucket\")\n",
    "\n",
    "url = \"gs://\" + bucket + \"/data/chicago-taxi-trip/chicago-taxi-0000000000*\""
   ]
  },
  {
   "cell_type": "code",
   "execution_count": null,
   "id": "54fbd83c-2183-4042-9082-4c0016817528",
   "metadata": {},
   "outputs": [
    {
     "name": "stderr",
     "output_type": "stream",
     "text": [
      "24/10/30 01:11:31 WARN YarnScheduler: Initial job has not accepted any resources; check your cluster UI to ensure that workers are registered and have sufficient resources\n",
      "24/10/30 01:11:46 WARN YarnScheduler: Initial job has not accepted any resources; check your cluster UI to ensure that workers are registered and have sufficient resources\n",
      "24/10/30 01:12:01 WARN YarnScheduler: Initial job has not accepted any resources; check your cluster UI to ensure that workers are registered and have sufficient resources\n",
      "24/10/30 01:12:16 WARN YarnScheduler: Initial job has not accepted any resources; check your cluster UI to ensure that workers are registered and have sufficient resources\n",
      "24/10/30 01:12:31 WARN YarnScheduler: Initial job has not accepted any resources; check your cluster UI to ensure that workers are registered and have sufficient resources\n",
      "24/10/30 01:12:46 WARN YarnScheduler: Initial job has not accepted any resources; check your cluster UI to ensure that workers are registered and have sufficient resources\n",
      "24/10/30 01:13:01 WARN YarnScheduler: Initial job has not accepted any resources; check your cluster UI to ensure that workers are registered and have sufficient resources\n",
      "24/10/30 01:13:16 WARN YarnScheduler: Initial job has not accepted any resources; check your cluster UI to ensure that workers are registered and have sufficient resources\n",
      "24/10/30 01:13:31 WARN YarnScheduler: Initial job has not accepted any resources; check your cluster UI to ensure that workers are registered and have sufficient resources\n",
      "24/10/30 01:13:46 WARN YarnScheduler: Initial job has not accepted any resources; check your cluster UI to ensure that workers are registered and have sufficient resources\n",
      "24/10/30 01:14:01 WARN YarnScheduler: Initial job has not accepted any resources; check your cluster UI to ensure that workers are registered and have sufficient resources\n",
      "24/10/30 01:14:16 WARN YarnScheduler: Initial job has not accepted any resources; check your cluster UI to ensure that workers are registered and have sufficient resources\n",
      "24/10/30 01:14:31 WARN YarnScheduler: Initial job has not accepted any resources; check your cluster UI to ensure that workers are registered and have sufficient resources\n",
      "24/10/30 01:14:46 WARN YarnScheduler: Initial job has not accepted any resources; check your cluster UI to ensure that workers are registered and have sufficient resources\n",
      "24/10/30 01:15:01 WARN YarnScheduler: Initial job has not accepted any resources; check your cluster UI to ensure that workers are registered and have sufficient resources\n",
      "24/10/30 01:15:16 WARN YarnScheduler: Initial job has not accepted any resources; check your cluster UI to ensure that workers are registered and have sufficient resources\n",
      "24/10/30 01:15:31 WARN YarnScheduler: Initial job has not accepted any resources; check your cluster UI to ensure that workers are registered and have sufficient resources\n",
      "24/10/30 01:15:46 WARN YarnScheduler: Initial job has not accepted any resources; check your cluster UI to ensure that workers are registered and have sufficient resources\n",
      "24/10/30 01:16:01 WARN YarnScheduler: Initial job has not accepted any resources; check your cluster UI to ensure that workers are registered and have sufficient resources\n",
      "24/10/30 01:16:16 WARN YarnScheduler: Initial job has not accepted any resources; check your cluster UI to ensure that workers are registered and have sufficient resources\n",
      "24/10/30 01:16:31 WARN YarnScheduler: Initial job has not accepted any resources; check your cluster UI to ensure that workers are registered and have sufficient resources\n",
      "24/10/30 01:16:46 WARN YarnScheduler: Initial job has not accepted any resources; check your cluster UI to ensure that workers are registered and have sufficient resources\n",
      "24/10/30 01:17:01 WARN YarnScheduler: Initial job has not accepted any resources; check your cluster UI to ensure that workers are registered and have sufficient resources\n",
      "24/10/30 01:17:16 WARN YarnScheduler: Initial job has not accepted any resources; check your cluster UI to ensure that workers are registered and have sufficient resources\n",
      "24/10/30 01:17:31 WARN YarnScheduler: Initial job has not accepted any resources; check your cluster UI to ensure that workers are registered and have sufficient resources\n",
      "24/10/30 01:17:46 WARN YarnScheduler: Initial job has not accepted any resources; check your cluster UI to ensure that workers are registered and have sufficient resources\n",
      "24/10/30 01:18:01 WARN YarnScheduler: Initial job has not accepted any resources; check your cluster UI to ensure that workers are registered and have sufficient resources\n",
      "24/10/30 01:18:16 WARN YarnScheduler: Initial job has not accepted any resources; check your cluster UI to ensure that workers are registered and have sufficient resources\n",
      "24/10/30 01:18:31 WARN YarnScheduler: Initial job has not accepted any resources; check your cluster UI to ensure that workers are registered and have sufficient resources\n",
      "24/10/30 01:18:46 WARN YarnScheduler: Initial job has not accepted any resources; check your cluster UI to ensure that workers are registered and have sufficient resources\n",
      "24/10/30 01:19:01 WARN YarnScheduler: Initial job has not accepted any resources; check your cluster UI to ensure that workers are registered and have sufficient resources\n",
      "24/10/30 01:19:16 WARN YarnScheduler: Initial job has not accepted any resources; check your cluster UI to ensure that workers are registered and have sufficient resources\n",
      "24/10/30 01:19:31 WARN YarnScheduler: Initial job has not accepted any resources; check your cluster UI to ensure that workers are registered and have sufficient resources\n",
      "24/10/30 01:19:46 WARN YarnScheduler: Initial job has not accepted any resources; check your cluster UI to ensure that workers are registered and have sufficient resources\n",
      "24/10/30 01:20:01 WARN YarnScheduler: Initial job has not accepted any resources; check your cluster UI to ensure that workers are registered and have sufficient resources\n",
      "24/10/30 01:20:16 WARN YarnScheduler: Initial job has not accepted any resources; check your cluster UI to ensure that workers are registered and have sufficient resources\n",
      "24/10/30 01:20:31 WARN YarnScheduler: Initial job has not accepted any resources; check your cluster UI to ensure that workers are registered and have sufficient resources\n",
      "24/10/30 01:20:46 WARN YarnScheduler: Initial job has not accepted any resources; check your cluster UI to ensure that workers are registered and have sufficient resources\n",
      "24/10/30 01:21:01 WARN YarnScheduler: Initial job has not accepted any resources; check your cluster UI to ensure that workers are registered and have sufficient resources\n",
      "24/10/30 01:21:16 WARN YarnScheduler: Initial job has not accepted any resources; check your cluster UI to ensure that workers are registered and have sufficient resources\n",
      "24/10/30 01:21:31 WARN YarnScheduler: Initial job has not accepted any resources; check your cluster UI to ensure that workers are registered and have sufficient resources\n",
      "24/10/30 01:21:46 WARN YarnScheduler: Initial job has not accepted any resources; check your cluster UI to ensure that workers are registered and have sufficient resources\n",
      "24/10/30 01:22:01 WARN YarnScheduler: Initial job has not accepted any resources; check your cluster UI to ensure that workers are registered and have sufficient resources\n",
      "24/10/30 01:22:16 WARN YarnScheduler: Initial job has not accepted any resources; check your cluster UI to ensure that workers are registered and have sufficient resources\n",
      "24/10/30 01:22:31 WARN YarnScheduler: Initial job has not accepted any resources; check your cluster UI to ensure that workers are registered and have sufficient resources\n",
      "[Stage 0:>                                                        (0 + 1) / 100]\r"
     ]
    }
   ],
   "source": [
    "from pyspark.sql.types import (StructType, \n",
    "                               StructField, \n",
    "                               DoubleType,\n",
    "                               IntegerType,\n",
    "                               StringType,\n",
    "                               TimestampType)\n",
    "\n",
    "taxi_schema = StructType([StructField('unique_key', StringType(), True),\n",
    "                StructField('taxi_id', StringType(), True),\n",
    "                StructField('trip_start_timestamp', TimestampType(), True), \n",
    "                StructField('trip_end_timestamp', TimestampType(), True), \n",
    "                StructField('trip_seconds', IntegerType(), True), \n",
    "                StructField('trip_miles', IntegerType(), True), \n",
    "                StructField('pickup_census_tract', StringType(), True), \n",
    "                StructField('dropoff_census_tract', StringType(), True), \n",
    "                StructField('pickup_community_area', IntegerType(), True), \n",
    "                StructField('dropoff_community_area', IntegerType(), True), \n",
    "                StructField('fare', IntegerType(), True), \n",
    "                StructField('tips', IntegerType(), True), \n",
    "                StructField('tolls', IntegerType(), True), \n",
    "                StructField('extras', IntegerType(), True), \n",
    "                StructField('trip_total', IntegerType(), True), \n",
    "                StructField('payment_type', StringType(), True), \n",
    "                StructField('company', StringType(), True), \n",
    "                StructField('pickup_latitude', StringType(), True), \n",
    "                StructField('pickup_longitude', StringType(), True), \n",
    "                StructField('pickup_location', StringType(), True), \n",
    "                StructField('dropoff_latitude', StringType(), True), \n",
    "                StructField('dropoff_longitude', StringType(), True), \n",
    "                StructField('dropoff_location', StringType(), True)])\n",
    "\n",
    "taxi_all_years = spark.read.format(\"csv\").option(\"header\", \"true\").schema(taxi_schema).csv(url)"
   ]
  },
  {
   "cell_type": "code",
   "execution_count": null,
   "id": "37cdb429-1034-4451-93b4-391ebc43570f",
   "metadata": {},
   "outputs": [],
   "source": [
    "taxi_all_years.printSchema()"
   ]
  },
  {
   "cell_type": "markdown",
   "id": "06a88efb-c636-47fc-a5e5-73dba57ca796",
   "metadata": {},
   "source": [
    "Inspect the first 10 rows of the dataset:"
   ]
  },
  {
   "cell_type": "code",
   "execution_count": null,
   "id": "7b401cb8-ffa5-4fb6-9243-6b9fc83f7db7",
   "metadata": {},
   "outputs": [],
   "source": [
    "taxi_all_years.limit(10).toPandas()"
   ]
  },
  {
   "cell_type": "markdown",
   "id": "b27c2464-2829-46f9-a62d-c28ee754b1bb",
   "metadata": {},
   "source": [
    "#### Filter only data between 2018 and 2023"
   ]
  },
  {
   "cell_type": "code",
   "execution_count": null,
   "id": "92bc5950-da3f-4402-86d4-f594cd4b884a",
   "metadata": {},
   "outputs": [],
   "source": [
    "from pyspark.sql.functions import year, col\n",
    "\n",
    "start_year = (year(col(\"trip_start_timestamp\")) >= 2018)\n",
    "end_year = (year(col(\"trip_end_timestamp\")) <= 2023)\n",
    "taxi_trips = taxi_all_years.filter(start_year & end_year)"
   ]
  },
  {
   "cell_type": "code",
   "execution_count": null,
   "id": "18d7a906-4eba-4ea9-bf15-140483771eea",
   "metadata": {},
   "outputs": [],
   "source": [
    "taxi_trips.limit(10).toPandas()"
   ]
  },
  {
   "cell_type": "markdown",
   "id": "b110ec74-455e-4a9b-8e46-616cae2187dc",
   "metadata": {},
   "source": [
    "#### Dropping pickup_census_tract and dropoff_census_tract\n",
    "These 2 columns contains a lot of missing data that is purposely left blank for privacy. As you can see from the dataframe below, more than half of pickup_census_tract and dropoff_census_tract are missing. Because of this, as well as the size of a census track that is too granular a scale for our purpose, we will drop the census tract columns and use pickup_community_area and dropoff_community_area, which is more populated as an indicator for locations in Chicago."
   ]
  },
  {
   "cell_type": "code",
   "execution_count": null,
   "id": "925a0131-e550-49b1-a09d-63ce63edf2cc",
   "metadata": {},
   "outputs": [],
   "source": [
    "from pyspark.sql.functions import sum, count\n",
    "\n",
    "\n",
    "null_counts_df = taxi_trips.select(\n",
    "    count(\"*\").alias(\"total_trip_count\"),\n",
    "    sum(col(\"pickup_census_tract\").isNull().cast(\"int\")).alias(\"pickup_census_tract_null_count\"),\n",
    "    sum(col(\"dropoff_census_tract\").isNull().cast(\"int\")).alias(\"dropoff_census_tract_null_count\"),\n",
    "    sum(col(\"pickup_community_area\").isNull().cast(\"int\")).alias(\"pickup_community_area_null_count\"),\n",
    "    sum(col(\"dropoff_community_area\").isNull().cast(\"int\")).alias(\"dropoff_community_area_null_count\")\n",
    ")\n",
    "\n",
    "null_counts_df.toPandas()"
   ]
  },
  {
   "cell_type": "code",
   "execution_count": null,
   "id": "b34e686f-c4b3-4ce6-851c-97093da25d4b",
   "metadata": {},
   "outputs": [],
   "source": [
    "taxi_trips = taxi_trips.drop(\"pickup_census_tract\", \"dropoff_census_tract\")"
   ]
  },
  {
   "cell_type": "markdown",
   "id": "bd8ab923-03ed-43f8-80e3-563b03264c42",
   "metadata": {},
   "source": [
    "#### Rename `unique_key` column to `trip_id`"
   ]
  },
  {
   "cell_type": "code",
   "execution_count": null,
   "id": "b546e7ab-a7b0-4f69-a83f-613015d97890",
   "metadata": {},
   "outputs": [],
   "source": [
    "taxi_trips = taxi_trips.withColumnRenamed(\"unique_key\", \"trip_id\")\n",
    "taxi_trips.schema"
   ]
  },
  {
   "cell_type": "markdown",
   "id": "46ec50c9-047d-43e2-8d47-77157e285ed6",
   "metadata": {},
   "source": [
    "#### Filter rows where the `trip_seconds` is too short\n",
    "Some rows has trip second that doesn't last more than 1 minute, which we found unlikely for a taxi trip to be that short. We think that this is most likely due to mistakes in data reporting, meter errors, or some other factors which does not reflect the taxi services or demands. We decide to use 60 seconds as a threshold where any trip under 60 seconds is considered to be an error in data collection."
   ]
  },
  {
   "cell_type": "code",
   "execution_count": null,
   "id": "9c27667e-4d6d-463a-bae9-fb6642636f60",
   "metadata": {},
   "outputs": [],
   "source": [
    "taxi_trips = taxi_trips.where(col(\"trip_seconds\") >= 60)"
   ]
  },
  {
   "cell_type": "markdown",
   "id": "eef1acd0-24e7-47dc-bcdd-78ce62006565",
   "metadata": {},
   "source": [
    "#### Convert the the unit for trip duration from seconds to minute\n",
    "Second isn't the usual unit we would use to describe a trip duration. We will use minute instead considering that it is not as granular as second, and a taxi trip rarely goes over an hour. Any reminder from calculating the minute will be rounded to the nearest minute."
   ]
  },
  {
   "cell_type": "code",
   "execution_count": null,
   "id": "c96f377a-af05-4a91-a0b3-e514869e12aa",
   "metadata": {},
   "outputs": [],
   "source": [
    "from pyspark.sql.functions import round\n",
    "\n",
    "taxi_trips = taxi_trips.withColumn(\"trip_minutes\", round(col(\"trip_seconds\") / 60).cast(IntegerType())).drop(\"trip_seconds\")"
   ]
  },
  {
   "cell_type": "markdown",
   "id": "430b9a74-6f63-44c6-8d12-3aac6449301d",
   "metadata": {},
   "source": [
    "#### Replace `NULL` community area columns with -1\n",
    "Since the missing value in pickup_community_area and dropoff_community_area means that the location is outside of Chicago, not that the data is actually missing, we will replace it with a value -1 instead."
   ]
  },
  {
   "cell_type": "code",
   "execution_count": null,
   "id": "d5ad6ef4-c08f-4f89-af74-d61646680f50",
   "metadata": {},
   "outputs": [],
   "source": [
    "taxi_trips = taxi_trips.fillna({\"pickup_community_area\": -1, \"dropoff_community_area\": -1})"
   ]
  },
  {
   "cell_type": "markdown",
   "id": "5f74db38-7a41-438b-9d1d-115fa0eed624",
   "metadata": {},
   "source": [
    "#### Cache `taxi_trips` dataframe"
   ]
  },
  {
   "cell_type": "code",
   "execution_count": null,
   "id": "62a9b67f-7ee7-481b-ac49-55ef2b253104",
   "metadata": {},
   "outputs": [],
   "source": [
    "taxi_trips.cache()"
   ]
  },
  {
   "cell_type": "markdown",
   "id": "f1d858a5-01d0-4a2a-9da3-3337a325755d",
   "metadata": {},
   "source": [
    "### Community Area Dataset"
   ]
  },
  {
   "cell_type": "code",
   "execution_count": null,
   "id": "c4e8236a-7210-430a-a03e-e77511fcc47b",
   "metadata": {},
   "outputs": [],
   "source": [
    "community_area_schema = StructType([StructField('the_geom', StringType(), True), \n",
    "                                    StructField('PERIMETER', StringType(), True), \n",
    "                                    StructField('AREA', StringType(), True), \n",
    "                                    StructField('COMAREA_', StringType(), True), \n",
    "                                    StructField('COMAREA_ID', StringType(), True), \n",
    "                                    StructField('AREA_NUMBE', IntegerType(), True), \n",
    "                                    StructField('COMMUNITY', StringType(), True), \n",
    "                                    StructField('AREA_NUM_1', IntegerType(), True), \n",
    "                                    StructField('SHAPE_AREA', StringType(), True), \n",
    "                                    StructField('SHAPE_LEN', StringType(), True)])\n",
    "\n",
    "community_areas = spark.read.format(\"csv\").option(\"header\", \"true\").schema(community_area_schema).csv(\"gs://qstba843-team2/data/chicago-taxi-trip/community_area.csv\")"
   ]
  },
  {
   "cell_type": "markdown",
   "id": "81ad5bb1-6a73-4a30-b0b8-a24aadf8bfd1",
   "metadata": {},
   "source": [
    "#### Drop columns with missing values and duplicate values\n",
    "All rows of `PERIMETER`, `AREA`, `COMAREA_`, and `COMAREA_ID` columns contains the same value 0, which implies that the data is missing, so there is no use to them. `AREA_NUM_1` column is a duplicte of `AREA_NUMBE` column. We will drop these 5 columns."
   ]
  },
  {
   "cell_type": "code",
   "execution_count": null,
   "id": "42bda9d6-5836-4253-a94f-b162b066a313",
   "metadata": {},
   "outputs": [],
   "source": [
    "community_areas.select(\"PERIMETER\").distinct().show()\n",
    "community_areas.select(\"AREA\").distinct().show()\n",
    "community_areas.select(\"COMAREA_\").distinct().show()\n",
    "community_areas.select(\"COMAREA_ID\").distinct().show()"
   ]
  },
  {
   "cell_type": "code",
   "execution_count": null,
   "id": "4c95c272-c730-4678-aad0-b140d587c248",
   "metadata": {},
   "outputs": [],
   "source": [
    "community_areas = community_areas.drop(\"PERIMETER\", \"AREA\", \"COMAREA_\", \"COMAREA_ID\", \"AREA_NUM_1\")"
   ]
  },
  {
   "cell_type": "markdown",
   "id": "3d895d6e-ec05-407e-8fd1-2b281c9f61a0",
   "metadata": {},
   "source": [
    "#### Add a row to indicate a placeholder community area outside of Chicago"
   ]
  },
  {
   "cell_type": "code",
   "execution_count": null,
   "id": "e5f0267b-31b1-4967-a4db-3d5506f56ced",
   "metadata": {},
   "outputs": [],
   "source": [
    "community_areas.schema"
   ]
  },
  {
   "cell_type": "code",
   "execution_count": null,
   "id": "c4b84a36-af4a-4358-9cf8-8a60bb27c8b1",
   "metadata": {},
   "outputs": [],
   "source": [
    "from pyspark.sql import Row\n",
    "\n",
    "community_areas = community_areas.union(spark.createDataFrame([Row(the_geom=None, AREA_NUMBE=-1, COMMUNITY=\"Outside of Chicago\", SHAPE_AREA=None, SHAPE_LEN=None)], schema=community_areas.schema))"
   ]
  },
  {
   "cell_type": "markdown",
   "id": "8b79477a-acc3-4bf9-9bfb-6ba10d457300",
   "metadata": {},
   "source": [
    "#### Cache `community_areas` dataframe"
   ]
  },
  {
   "cell_type": "code",
   "execution_count": null,
   "id": "04e182fa-2ce4-4d45-a1d8-bb0368ad687a",
   "metadata": {},
   "outputs": [],
   "source": [
    "community_areas.cache()"
   ]
  },
  {
   "cell_type": "markdown",
   "id": "a7a41923-f930-47cd-a3d1-d03cad6cb047",
   "metadata": {},
   "source": [
    "## 4. Exploratory Data Analysis"
   ]
  },
  {
   "cell_type": "markdown",
   "id": "ab3f0af3-0c2d-4b01-8e6e-6e28eee6ea6e",
   "metadata": {},
   "source": [
    "### What is the distribution of trip duration?"
   ]
  },
  {
   "cell_type": "code",
   "execution_count": null,
   "id": "6712eaac-b82d-44d0-9b8d-9d6158553fc4",
   "metadata": {},
   "outputs": [],
   "source": [
    "import matplotlib.pyplot as plt\n",
    "\n",
    "plt.figure(figsize=(10, 6))\n",
    "plt.hist(taxi_trips.select(col(\"trip_minutes\")).toPandas(), bins=50, color=\"skyblue\", edgecolor=\"black\")\n",
    "plt.xlabel(\"Time in Minutes\")\n",
    "plt.ylabel(\"Frequency\")\n",
    "plt.title(\"Distribution of Trip Time in Minutes\")\n",
    "plt.show()"
   ]
  },
  {
   "cell_type": "code",
   "execution_count": null,
   "id": "25ee2efa-8e9a-44d0-a693-fbbfdc27e143",
   "metadata": {},
   "outputs": [],
   "source": [
    "taxi_trips.select(col(\"trip_minutes\")).toPandas()"
   ]
  },
  {
   "cell_type": "code",
   "execution_count": null,
   "id": "7bdf913d-395d-42d1-bd86-15b9363fd937",
   "metadata": {},
   "outputs": [],
   "source": []
  }
 ],
 "metadata": {
  "kernelspec": {
   "display_name": "PySpark",
   "language": "python",
   "name": "pyspark"
  },
  "language_info": {
   "codemirror_mode": {
    "name": "ipython",
    "version": 3
   },
   "file_extension": ".py",
   "mimetype": "text/x-python",
   "name": "python",
   "nbconvert_exporter": "python",
   "pygments_lexer": "ipython3",
   "version": "3.10.8"
  }
 },
 "nbformat": 4,
 "nbformat_minor": 5
}
