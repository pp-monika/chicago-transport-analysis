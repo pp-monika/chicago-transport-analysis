{
 "cells": [
  {
   "cell_type": "markdown",
   "id": "046b030f-a507-499f-863e-1d05887b4845",
   "metadata": {},
   "source": [
    "# Analyzing Transportation Patterns Using Chicago Taxi Trip and Chicago Rideshare for Urban Planning Insights"
   ]
  },
  {
   "cell_type": "markdown",
   "id": "ae04d774-3d46-48d6-83b9-9383cae2d9d8",
   "metadata": {},
   "source": [
    "Urban planning is an important aspect of designing cities to meet the infrastructure needed to support the livelihood of tens of millions of residents. Transportation in particular has a critical impact on people’s decision to accept employment, how they spend their time, places they visit, and even business locations. This exploration of Chicago taxi and ride share service data will provide an insight on traffic conditions, travel expenses, and hotspots for visitation in the city which can be used for city planning purposes."
   ]
  },
  {
   "cell_type": "markdown",
   "id": "268484c2-2c72-4b6d-83a5-8228d06c3a26",
   "metadata": {},
   "source": [
    "**Group Members**\n",
    "1. Monika Phuengmak\n",
    "2. Winni Tai \n",
    "3. Syeda Aqeel"
   ]
  },
  {
   "cell_type": "markdown",
   "id": "14e293d3-119f-4c29-a88c-a36c4246f365",
   "metadata": {},
   "source": [
    "## 1. Problem Definition\n",
    "This project aims to analyze Chicago’s taxi and rideshare data from 2018 to 2023 to generate actionable insights that support urban planning, enhance traffic management, and optimize transportation services. By identifying peak demand zones, assessing traffic congestion effects on trip durations, and analyzing fare trends across variables such as time, location, and service type, the project seeks to provide data-driven recommendations to improve mobility, reduce congestion, and better meet the transportation needs of Chicago’s residents and visitors."
   ]
  },
  {
   "cell_type": "markdown",
   "id": "9c4396e9-2fe1-4996-ada2-55eef743a932",
   "metadata": {},
   "source": [
    "## 2. Data Sources\n",
    "- Chicago Taxi Trips from 2013 to 2023: [link](https://data.cityofchicago.org/Transportation/Taxi-Trips-2013-2023-/wrvz-psew/about_data)\n",
    "- Chicago Transportation Network Providers Trip: from 2018 to 2022: [link](https://data.cityofchicago.org/Transportation/Transportation-Network-Providers-Trips-2018-2022-/m6dm-c72p/about_data)\n",
    "- Chicago Transportation Network Providers Trip: from 2023 to present: [link](https://data.cityofchicago.org/Transportation/Transportation-Network-Providers-Trips-2023-/n26f-ihde/about_data)\n",
    "- Chicago Community Area: [link](https://data.cityofchicago.org/Facilities-Geographic-Boundaries/Boundaries-Community-Areas-current-/cauq-8yn6)"
   ]
  },
  {
   "cell_type": "markdown",
   "id": "2c08d856-bb5f-4cb5-8c95-d7ef26fb9fdf",
   "metadata": {},
   "source": [
    "### Chicago Taxi Trips\n",
    "\n",
    "This dataset reflects taxi trips reported to the City of Chicago in its role as a regulatory agency. To protect privacy but allow for aggregate analyses, the Taxi ID is consistent for any given taxi medallion number but does not show the number. Census Tracts are suppressed in some cases for privacy. Due to the data reporting process, not all trips are reported but the City believes that most are."
   ]
  },
  {
   "cell_type": "markdown",
   "id": "9bda28c7-013e-40d7-8dd7-2f027fea3092",
   "metadata": {},
   "source": [
    "**Columns in this dataset**\n",
    "\n",
    "|Column name|Description|Type|\n",
    "|--|--|--|\n",
    "|trip_id|A unique identifier for the trip. Initially called unique_key, but it will be renamed to trip_id.|String|\n",
    "|taxi_id|A unique identifier for the taxi.|String|\n",
    "|trip_start_timestamp|Date and time when the trip started, rounded to the nearest 15 minutes.|Timestamp|\n",
    "|trip_end_timestamp|Date and time when the trip ended, rounded to the nearest 15 minutes.|Timestamp|\n",
    "|trip_seconds|Duration of the trip in seconds.|Integer|\n",
    "|trip_miles|Distance of the trip in miles.|Integer|\n",
    "|pickup_census_tract|The Census Tract where the trip began. For privacy, this Census Tract is not shown for some trips. This column often will be blank for locations outside Chicago.|Number|\n",
    "|dropoff_census_tract|The Census Tract where the trip ended. For privacy, this Census Tract is not shown for some trips. This column often will be blank for locations outside Chicago.|Number|\n",
    "|pickup_community_area|The Community Area where the trip began. This column will be blank for locations outside Chicago.|Integer|\n",
    "|dropoff_community_area|The Community Area where the trip ended. This column will be blank for locations outside Chicago.|Integer|\n",
    "|fare|The fare for the trip.|Integer|\n",
    "|tips|The tip for the trip. Cash tips generally will not be recorded.|Integer|\n",
    "|tolls|The tolls for the trip.|Integer|\n",
    "|extras|Extra charges for the trip. This generally includes airport surcharges, late-night or rush hour surcharges, credit card processing fee, and other surcharges.|Integer|\n",
    "|trip_total|Total cost of the trip calculated from are, tips, tolls, and extras.|Integer|\n",
    "|payment_type|Type of payment for the trip.|String|\n",
    "|company|The taxi company.|String|\n",
    "|pickup_latitude|The latitude of the center of the pickup census tract or the community area if the census tract has been hidden for privacy. This column often will be blank for locations outside Chicago.|Double|\n",
    "|pickup_longitude|The longitude of the center of the pickup census tract or the community area if the census tract has been hidden for privacy. This column often will be blank for locations outside Chicago.|Double|\n",
    "|pickup_location|The location of the center of the pickup census tract or the community area if the census tract has been hidden for privacy. This column often will be blank for locations outside Chicago.|String|\n",
    "|dropoff_latitude|The latitude of the center of the dropoff census tract or the community area if the census tract has been hidden for privacy. This column often will be blank for locations outside Chicago.|Double|\n",
    "|dropoff_longitude|The longitude of the center of the dropoff census tract or the community area if the census tract has been hidden for privacy. This column often will be blank for locations outside Chicago.|Double|\n",
    "|dropoff_location|The location of the center of the dropoff census tract or the community area if the census tract has been hidden for privacy. This column often will be blank for locations outside Chicago.|String|"
   ]
  },
  {
   "cell_type": "markdown",
   "id": "a3e5ee71-5006-45ad-ab3a-5ef791b3ff71",
   "metadata": {},
   "source": [
    "Download data from Google Cloud Bucket:"
   ]
  },
  {
   "cell_type": "code",
   "execution_count": 33,
   "id": "c3f2dca4-1cb7-4797-8a23-603359b04894",
   "metadata": {},
   "outputs": [],
   "source": [
    "# the following line gets the bucket name attached to our cluster\n",
    "bucket = spark._jsc.hadoopConfiguration().get(\"fs.gs.system.bucket\")\n",
    "\n",
    "# specifying the path to our bucket where the data is located (no need to edit this path anymore)\n",
    "url = \"gs://\" + bucket + \"/data/chicago-taxi-trip/chicago-taxi-0000000000*\""
   ]
  },
  {
   "cell_type": "code",
   "execution_count": 58,
   "id": "54fbd83c-2183-4042-9082-4c0016817528",
   "metadata": {},
   "outputs": [
    {
     "name": "stderr",
     "output_type": "stream",
     "text": [
      "                                                                                \r"
     ]
    }
   ],
   "source": [
    "from pyspark.sql.types import (StructType, \n",
    "                               StructField, \n",
    "                               DoubleType,\n",
    "                               IntegerType,\n",
    "                               StringType,\n",
    "                               TimestampType)\n",
    "\n",
    "taxi_schema = StructType([StructField('unique_key', StringType(), True),\n",
    "                StructField('taxi_id', StringType(), True),\n",
    "                StructField('trip_start_timestamp', TimestampType(), True), \n",
    "                StructField('trip_end_timestamp', TimestampType(), True), \n",
    "                StructField('trip_seconds', IntegerType(), True), \n",
    "                StructField('trip_miles', IntegerType(), True), \n",
    "                StructField('pickup_census_tract', StringType(), True), \n",
    "                StructField('dropoff_census_tract', StringType(), True), \n",
    "                StructField('pickup_community_area', IntegerType(), True), \n",
    "                StructField('dropoff_community_area', IntegerType(), True), \n",
    "                StructField('fare', IntegerType(), True), \n",
    "                StructField('tips', IntegerType(), True), \n",
    "                StructField('tolls', IntegerType(), True), \n",
    "                StructField('extras', IntegerType(), True), \n",
    "                StructField('trip_total', IntegerType(), True), \n",
    "                StructField('payment_type', StringType(), True), \n",
    "                StructField('company', StringType(), True), \n",
    "                StructField('pickup_latitude', StringType(), True), \n",
    "                StructField('pickup_longitude', StringType(), True), \n",
    "                StructField('pickup_location', StringType(), True), \n",
    "                StructField('dropoff_latitude', StringType(), True), \n",
    "                StructField('dropoff_longitude', StringType(), True), \n",
    "                StructField('dropoff_location', StringType(), True)])\n",
    "\n",
    "taxi_all_years = spark.read.format(\"csv\").option(\"header\", \"true\").schema(taxi_schema).csv(url)"
   ]
  },
  {
   "cell_type": "code",
   "execution_count": 59,
   "id": "37cdb429-1034-4451-93b4-391ebc43570f",
   "metadata": {},
   "outputs": [
    {
     "name": "stdout",
     "output_type": "stream",
     "text": [
      "root\n",
      " |-- unique_key: string (nullable = true)\n",
      " |-- taxi_id: string (nullable = true)\n",
      " |-- trip_start_timestamp: timestamp (nullable = true)\n",
      " |-- trip_end_timestamp: timestamp (nullable = true)\n",
      " |-- trip_seconds: integer (nullable = true)\n",
      " |-- trip_miles: integer (nullable = true)\n",
      " |-- pickup_census_tract: string (nullable = true)\n",
      " |-- dropoff_census_tract: string (nullable = true)\n",
      " |-- pickup_community_area: integer (nullable = true)\n",
      " |-- dropoff_community_area: integer (nullable = true)\n",
      " |-- fare: integer (nullable = true)\n",
      " |-- tips: integer (nullable = true)\n",
      " |-- tolls: integer (nullable = true)\n",
      " |-- extras: integer (nullable = true)\n",
      " |-- trip_total: integer (nullable = true)\n",
      " |-- payment_type: string (nullable = true)\n",
      " |-- company: string (nullable = true)\n",
      " |-- pickup_latitude: string (nullable = true)\n",
      " |-- pickup_longitude: string (nullable = true)\n",
      " |-- pickup_location: string (nullable = true)\n",
      " |-- dropoff_latitude: string (nullable = true)\n",
      " |-- dropoff_longitude: string (nullable = true)\n",
      " |-- dropoff_location: string (nullable = true)\n",
      "\n"
     ]
    }
   ],
   "source": [
    "taxi_all_years.printSchema()"
   ]
  },
  {
   "cell_type": "markdown",
   "id": "06a88efb-c636-47fc-a5e5-73dba57ca796",
   "metadata": {},
   "source": [
    "Inspect the first 10 rows of the dataset:"
   ]
  },
  {
   "cell_type": "code",
   "execution_count": 39,
   "id": "7b401cb8-ffa5-4fb6-9243-6b9fc83f7db7",
   "metadata": {},
   "outputs": [
    {
     "data": {
      "text/html": [
       "<div>\n",
       "<style scoped>\n",
       "    .dataframe tbody tr th:only-of-type {\n",
       "        vertical-align: middle;\n",
       "    }\n",
       "\n",
       "    .dataframe tbody tr th {\n",
       "        vertical-align: top;\n",
       "    }\n",
       "\n",
       "    .dataframe thead th {\n",
       "        text-align: right;\n",
       "    }\n",
       "</style>\n",
       "<table border=\"1\" class=\"dataframe\">\n",
       "  <thead>\n",
       "    <tr style=\"text-align: right;\">\n",
       "      <th></th>\n",
       "      <th>unique_key</th>\n",
       "      <th>taxi_id</th>\n",
       "      <th>trip_start_timestamp</th>\n",
       "      <th>trip_end_timestamp</th>\n",
       "      <th>trip_seconds</th>\n",
       "      <th>trip_miles</th>\n",
       "      <th>pickup_census_tract</th>\n",
       "      <th>dropoff_census_tract</th>\n",
       "      <th>pickup_community_area</th>\n",
       "      <th>dropoff_community_area</th>\n",
       "      <th>...</th>\n",
       "      <th>extras</th>\n",
       "      <th>trip_total</th>\n",
       "      <th>payment_type</th>\n",
       "      <th>company</th>\n",
       "      <th>pickup_latitude</th>\n",
       "      <th>pickup_longitude</th>\n",
       "      <th>pickup_location</th>\n",
       "      <th>dropoff_latitude</th>\n",
       "      <th>dropoff_longitude</th>\n",
       "      <th>dropoff_location</th>\n",
       "    </tr>\n",
       "  </thead>\n",
       "  <tbody>\n",
       "    <tr>\n",
       "      <th>0</th>\n",
       "      <td>5003bdd51918a9b5a52134096663b4d7e02395c5</td>\n",
       "      <td>2130bc5fd239a4e3b304662424fb4cc7db0ca7abf78cc5...</td>\n",
       "      <td>2013-02-25 14:15:00</td>\n",
       "      <td>2013-02-25 14:15:00</td>\n",
       "      <td>120</td>\n",
       "      <td>0.0</td>\n",
       "      <td>None</td>\n",
       "      <td>None</td>\n",
       "      <td>NaN</td>\n",
       "      <td>NaN</td>\n",
       "      <td>...</td>\n",
       "      <td>NaN</td>\n",
       "      <td>NaN</td>\n",
       "      <td>Cash</td>\n",
       "      <td>None</td>\n",
       "      <td>None</td>\n",
       "      <td>None</td>\n",
       "      <td>None</td>\n",
       "      <td>None</td>\n",
       "      <td>None</td>\n",
       "      <td>None</td>\n",
       "    </tr>\n",
       "    <tr>\n",
       "      <th>1</th>\n",
       "      <td>720534d264001b2644f682755b294067fdf1da21</td>\n",
       "      <td>4bb55b69e710d1792f5fd4888001f4ff0ce34040f976f8...</td>\n",
       "      <td>2013-06-02 08:15:00</td>\n",
       "      <td>2013-06-02 08:15:00</td>\n",
       "      <td>60</td>\n",
       "      <td>NaN</td>\n",
       "      <td>None</td>\n",
       "      <td>None</td>\n",
       "      <td>NaN</td>\n",
       "      <td>NaN</td>\n",
       "      <td>...</td>\n",
       "      <td>NaN</td>\n",
       "      <td>NaN</td>\n",
       "      <td>Cash</td>\n",
       "      <td>None</td>\n",
       "      <td>None</td>\n",
       "      <td>None</td>\n",
       "      <td>None</td>\n",
       "      <td>None</td>\n",
       "      <td>None</td>\n",
       "      <td>None</td>\n",
       "    </tr>\n",
       "    <tr>\n",
       "      <th>2</th>\n",
       "      <td>515b9a6d5234a4d1fb559dca27b3e1cc541a342d</td>\n",
       "      <td>4bb55b69e710d1792f5fd4888001f4ff0ce34040f976f8...</td>\n",
       "      <td>2013-06-24 06:15:00</td>\n",
       "      <td>2013-06-24 06:15:00</td>\n",
       "      <td>60</td>\n",
       "      <td>NaN</td>\n",
       "      <td>None</td>\n",
       "      <td>None</td>\n",
       "      <td>1.0</td>\n",
       "      <td>77.0</td>\n",
       "      <td>...</td>\n",
       "      <td>NaN</td>\n",
       "      <td>NaN</td>\n",
       "      <td>Cash</td>\n",
       "      <td>None</td>\n",
       "      <td>42.009622881</td>\n",
       "      <td>-87.670166857</td>\n",
       "      <td>POINT (-87.67016685690001 42.0096228806)</td>\n",
       "      <td>41.9867118</td>\n",
       "      <td>-87.663416405</td>\n",
       "      <td>POINT (-87.6634164054 41.9867117999)</td>\n",
       "    </tr>\n",
       "    <tr>\n",
       "      <th>3</th>\n",
       "      <td>8afd48d966bf464e93127f43b72a8e405596a8eb</td>\n",
       "      <td>0150188f8c8e8973a198d4af0b427fca8ff48df2662d6b...</td>\n",
       "      <td>2013-02-01 07:00:00</td>\n",
       "      <td>2013-02-02 00:00:00</td>\n",
       "      <td>61560</td>\n",
       "      <td>0.0</td>\n",
       "      <td>None</td>\n",
       "      <td>None</td>\n",
       "      <td>NaN</td>\n",
       "      <td>NaN</td>\n",
       "      <td>...</td>\n",
       "      <td>0.0</td>\n",
       "      <td>0.0</td>\n",
       "      <td>Cash</td>\n",
       "      <td>None</td>\n",
       "      <td>None</td>\n",
       "      <td>None</td>\n",
       "      <td>None</td>\n",
       "      <td>None</td>\n",
       "      <td>None</td>\n",
       "      <td>None</td>\n",
       "    </tr>\n",
       "    <tr>\n",
       "      <th>4</th>\n",
       "      <td>fe73a44f01fdd2a3c740a01f53e97ec2ced93455</td>\n",
       "      <td>0150188f8c8e8973a198d4af0b427fca8ff48df2662d6b...</td>\n",
       "      <td>2013-02-01 07:00:00</td>\n",
       "      <td>2013-02-02 00:00:00</td>\n",
       "      <td>60900</td>\n",
       "      <td>0.0</td>\n",
       "      <td>None</td>\n",
       "      <td>None</td>\n",
       "      <td>NaN</td>\n",
       "      <td>NaN</td>\n",
       "      <td>...</td>\n",
       "      <td>0.0</td>\n",
       "      <td>0.0</td>\n",
       "      <td>Cash</td>\n",
       "      <td>None</td>\n",
       "      <td>None</td>\n",
       "      <td>None</td>\n",
       "      <td>None</td>\n",
       "      <td>None</td>\n",
       "      <td>None</td>\n",
       "      <td>None</td>\n",
       "    </tr>\n",
       "    <tr>\n",
       "      <th>5</th>\n",
       "      <td>e3f992b350122d006ab02bade16f0db85a77efad</td>\n",
       "      <td>0150188f8c8e8973a198d4af0b427fca8ff48df2662d6b...</td>\n",
       "      <td>2013-02-01 07:00:00</td>\n",
       "      <td>2013-02-02 00:00:00</td>\n",
       "      <td>60780</td>\n",
       "      <td>0.0</td>\n",
       "      <td>None</td>\n",
       "      <td>None</td>\n",
       "      <td>NaN</td>\n",
       "      <td>NaN</td>\n",
       "      <td>...</td>\n",
       "      <td>0.0</td>\n",
       "      <td>0.0</td>\n",
       "      <td>Cash</td>\n",
       "      <td>None</td>\n",
       "      <td>None</td>\n",
       "      <td>None</td>\n",
       "      <td>None</td>\n",
       "      <td>None</td>\n",
       "      <td>None</td>\n",
       "      <td>None</td>\n",
       "    </tr>\n",
       "    <tr>\n",
       "      <th>6</th>\n",
       "      <td>90e0d51d20f84ddbeece8c05a21ea031c8812a01</td>\n",
       "      <td>1f3593421771a4a6cc906137e5d3221ed2ab7bef3c2bfa...</td>\n",
       "      <td>2013-02-15 18:00:00</td>\n",
       "      <td>2013-02-15 18:00:00</td>\n",
       "      <td>0</td>\n",
       "      <td>0.0</td>\n",
       "      <td>None</td>\n",
       "      <td>None</td>\n",
       "      <td>NaN</td>\n",
       "      <td>NaN</td>\n",
       "      <td>...</td>\n",
       "      <td>0.0</td>\n",
       "      <td>0.0</td>\n",
       "      <td>Cash</td>\n",
       "      <td>None</td>\n",
       "      <td>None</td>\n",
       "      <td>None</td>\n",
       "      <td>None</td>\n",
       "      <td>None</td>\n",
       "      <td>None</td>\n",
       "      <td>None</td>\n",
       "    </tr>\n",
       "    <tr>\n",
       "      <th>7</th>\n",
       "      <td>ff4a3c7cd1bd70b906eb1ca91d620bfd215dd27e</td>\n",
       "      <td>1f3593421771a4a6cc906137e5d3221ed2ab7bef3c2bfa...</td>\n",
       "      <td>2013-02-15 18:00:00</td>\n",
       "      <td>2013-02-15 18:00:00</td>\n",
       "      <td>0</td>\n",
       "      <td>0.0</td>\n",
       "      <td>None</td>\n",
       "      <td>None</td>\n",
       "      <td>NaN</td>\n",
       "      <td>NaN</td>\n",
       "      <td>...</td>\n",
       "      <td>0.0</td>\n",
       "      <td>0.0</td>\n",
       "      <td>Cash</td>\n",
       "      <td>None</td>\n",
       "      <td>None</td>\n",
       "      <td>None</td>\n",
       "      <td>None</td>\n",
       "      <td>None</td>\n",
       "      <td>None</td>\n",
       "      <td>None</td>\n",
       "    </tr>\n",
       "    <tr>\n",
       "      <th>8</th>\n",
       "      <td>f927054758d789285e2ef73b21751e358bd5f64e</td>\n",
       "      <td>1f3593421771a4a6cc906137e5d3221ed2ab7bef3c2bfa...</td>\n",
       "      <td>2013-02-15 18:00:00</td>\n",
       "      <td>2013-02-15 18:00:00</td>\n",
       "      <td>60</td>\n",
       "      <td>NaN</td>\n",
       "      <td>None</td>\n",
       "      <td>None</td>\n",
       "      <td>NaN</td>\n",
       "      <td>NaN</td>\n",
       "      <td>...</td>\n",
       "      <td>0.0</td>\n",
       "      <td>0.0</td>\n",
       "      <td>Cash</td>\n",
       "      <td>None</td>\n",
       "      <td>None</td>\n",
       "      <td>None</td>\n",
       "      <td>None</td>\n",
       "      <td>None</td>\n",
       "      <td>None</td>\n",
       "      <td>None</td>\n",
       "    </tr>\n",
       "    <tr>\n",
       "      <th>9</th>\n",
       "      <td>95934109e937217408cc935b332e9ee3326b4875</td>\n",
       "      <td>842e2b1cd011fab01b6cc042f40c5941798405df1b3b02...</td>\n",
       "      <td>2013-02-17 06:00:00</td>\n",
       "      <td>2013-02-17 06:15:00</td>\n",
       "      <td>660</td>\n",
       "      <td>NaN</td>\n",
       "      <td>None</td>\n",
       "      <td>None</td>\n",
       "      <td>NaN</td>\n",
       "      <td>NaN</td>\n",
       "      <td>...</td>\n",
       "      <td>0.0</td>\n",
       "      <td>0.0</td>\n",
       "      <td>Cash</td>\n",
       "      <td>None</td>\n",
       "      <td>None</td>\n",
       "      <td>None</td>\n",
       "      <td>None</td>\n",
       "      <td>None</td>\n",
       "      <td>None</td>\n",
       "      <td>None</td>\n",
       "    </tr>\n",
       "  </tbody>\n",
       "</table>\n",
       "<p>10 rows × 23 columns</p>\n",
       "</div>"
      ],
      "text/plain": [
       "                                 unique_key  \\\n",
       "0  5003bdd51918a9b5a52134096663b4d7e02395c5   \n",
       "1  720534d264001b2644f682755b294067fdf1da21   \n",
       "2  515b9a6d5234a4d1fb559dca27b3e1cc541a342d   \n",
       "3  8afd48d966bf464e93127f43b72a8e405596a8eb   \n",
       "4  fe73a44f01fdd2a3c740a01f53e97ec2ced93455   \n",
       "5  e3f992b350122d006ab02bade16f0db85a77efad   \n",
       "6  90e0d51d20f84ddbeece8c05a21ea031c8812a01   \n",
       "7  ff4a3c7cd1bd70b906eb1ca91d620bfd215dd27e   \n",
       "8  f927054758d789285e2ef73b21751e358bd5f64e   \n",
       "9  95934109e937217408cc935b332e9ee3326b4875   \n",
       "\n",
       "                                             taxi_id trip_start_timestamp  \\\n",
       "0  2130bc5fd239a4e3b304662424fb4cc7db0ca7abf78cc5...  2013-02-25 14:15:00   \n",
       "1  4bb55b69e710d1792f5fd4888001f4ff0ce34040f976f8...  2013-06-02 08:15:00   \n",
       "2  4bb55b69e710d1792f5fd4888001f4ff0ce34040f976f8...  2013-06-24 06:15:00   \n",
       "3  0150188f8c8e8973a198d4af0b427fca8ff48df2662d6b...  2013-02-01 07:00:00   \n",
       "4  0150188f8c8e8973a198d4af0b427fca8ff48df2662d6b...  2013-02-01 07:00:00   \n",
       "5  0150188f8c8e8973a198d4af0b427fca8ff48df2662d6b...  2013-02-01 07:00:00   \n",
       "6  1f3593421771a4a6cc906137e5d3221ed2ab7bef3c2bfa...  2013-02-15 18:00:00   \n",
       "7  1f3593421771a4a6cc906137e5d3221ed2ab7bef3c2bfa...  2013-02-15 18:00:00   \n",
       "8  1f3593421771a4a6cc906137e5d3221ed2ab7bef3c2bfa...  2013-02-15 18:00:00   \n",
       "9  842e2b1cd011fab01b6cc042f40c5941798405df1b3b02...  2013-02-17 06:00:00   \n",
       "\n",
       "   trip_end_timestamp  trip_seconds  trip_miles pickup_census_tract  \\\n",
       "0 2013-02-25 14:15:00           120         0.0                None   \n",
       "1 2013-06-02 08:15:00            60         NaN                None   \n",
       "2 2013-06-24 06:15:00            60         NaN                None   \n",
       "3 2013-02-02 00:00:00         61560         0.0                None   \n",
       "4 2013-02-02 00:00:00         60900         0.0                None   \n",
       "5 2013-02-02 00:00:00         60780         0.0                None   \n",
       "6 2013-02-15 18:00:00             0         0.0                None   \n",
       "7 2013-02-15 18:00:00             0         0.0                None   \n",
       "8 2013-02-15 18:00:00            60         NaN                None   \n",
       "9 2013-02-17 06:15:00           660         NaN                None   \n",
       "\n",
       "  dropoff_census_tract  pickup_community_area  dropoff_community_area  ...  \\\n",
       "0                 None                    NaN                     NaN  ...   \n",
       "1                 None                    NaN                     NaN  ...   \n",
       "2                 None                    1.0                    77.0  ...   \n",
       "3                 None                    NaN                     NaN  ...   \n",
       "4                 None                    NaN                     NaN  ...   \n",
       "5                 None                    NaN                     NaN  ...   \n",
       "6                 None                    NaN                     NaN  ...   \n",
       "7                 None                    NaN                     NaN  ...   \n",
       "8                 None                    NaN                     NaN  ...   \n",
       "9                 None                    NaN                     NaN  ...   \n",
       "\n",
       "   extras  trip_total  payment_type  company  pickup_latitude  \\\n",
       "0     NaN         NaN          Cash     None             None   \n",
       "1     NaN         NaN          Cash     None             None   \n",
       "2     NaN         NaN          Cash     None     42.009622881   \n",
       "3     0.0         0.0          Cash     None             None   \n",
       "4     0.0         0.0          Cash     None             None   \n",
       "5     0.0         0.0          Cash     None             None   \n",
       "6     0.0         0.0          Cash     None             None   \n",
       "7     0.0         0.0          Cash     None             None   \n",
       "8     0.0         0.0          Cash     None             None   \n",
       "9     0.0         0.0          Cash     None             None   \n",
       "\n",
       "  pickup_longitude                           pickup_location dropoff_latitude  \\\n",
       "0             None                                      None             None   \n",
       "1             None                                      None             None   \n",
       "2    -87.670166857  POINT (-87.67016685690001 42.0096228806)       41.9867118   \n",
       "3             None                                      None             None   \n",
       "4             None                                      None             None   \n",
       "5             None                                      None             None   \n",
       "6             None                                      None             None   \n",
       "7             None                                      None             None   \n",
       "8             None                                      None             None   \n",
       "9             None                                      None             None   \n",
       "\n",
       "  dropoff_longitude                      dropoff_location  \n",
       "0              None                                  None  \n",
       "1              None                                  None  \n",
       "2     -87.663416405  POINT (-87.6634164054 41.9867117999)  \n",
       "3              None                                  None  \n",
       "4              None                                  None  \n",
       "5              None                                  None  \n",
       "6              None                                  None  \n",
       "7              None                                  None  \n",
       "8              None                                  None  \n",
       "9              None                                  None  \n",
       "\n",
       "[10 rows x 23 columns]"
      ]
     },
     "execution_count": 39,
     "metadata": {},
     "output_type": "execute_result"
    }
   ],
   "source": [
    "taxi_all_years.limit(10).toPandas()"
   ]
  },
  {
   "cell_type": "markdown",
   "id": "b27c2464-2829-46f9-a62d-c28ee754b1bb",
   "metadata": {},
   "source": [
    "#### Filter only data between 2018 and 2023"
   ]
  },
  {
   "cell_type": "code",
   "execution_count": 60,
   "id": "92bc5950-da3f-4402-86d4-f594cd4b884a",
   "metadata": {},
   "outputs": [],
   "source": [
    "from pyspark.sql.functions import year, col\n",
    "\n",
    "start_year = (year(col(\"trip_start_timestamp\")) >= 2018)\n",
    "end_year = (year(col(\"trip_end_timestamp\")) <= 2023)\n",
    "taxi_all_years = taxi_all_years.filter(start_year & end_year)"
   ]
  },
  {
   "cell_type": "code",
   "execution_count": 61,
   "id": "18d7a906-4eba-4ea9-bf15-140483771eea",
   "metadata": {},
   "outputs": [
    {
     "data": {
      "text/plain": [
       "DataFrame[unique_key: string, taxi_id: string, trip_start_timestamp: timestamp, trip_end_timestamp: timestamp, trip_seconds: int, trip_miles: int, pickup_census_tract: string, dropoff_census_tract: string, pickup_community_area: int, dropoff_community_area: int, fare: int, tips: int, tolls: int, extras: int, trip_total: int, payment_type: string, company: string, pickup_latitude: string, pickup_longitude: string, pickup_location: string, dropoff_latitude: string, dropoff_longitude: string, dropoff_location: string]"
      ]
     },
     "execution_count": 61,
     "metadata": {},
     "output_type": "execute_result"
    }
   ],
   "source": [
    "taxi_all_years.cache()"
   ]
  },
  {
   "cell_type": "markdown",
   "id": "b110ec74-455e-4a9b-8e46-616cae2187dc",
   "metadata": {},
   "source": [
    "#### Dropping pickup_census_tract and dropoff_census_tract\n",
    "These 2 columns contains a lot of missing data that is purposely left blank for privacy. Because of this, as well as the size of a census track that is too granular a scale for our purpose, we will drop the census tract columns and use pickup_community_area and dropoff_community_area, which is more populated as an indicator for locations in Chicago."
   ]
  },
  {
   "cell_type": "code",
   "execution_count": 47,
   "id": "925a0131-e550-49b1-a09d-63ce63edf2cc",
   "metadata": {},
   "outputs": [
    {
     "name": "stderr",
     "output_type": "stream",
     "text": [
      "                                                                                \r"
     ]
    },
    {
     "data": {
      "text/plain": [
       "55168096"
      ]
     },
     "execution_count": 47,
     "metadata": {},
     "output_type": "execute_result"
    }
   ],
   "source": [
    "taxi_all_years.filter(taxi_all_years[\"pickup_census_tract\"].isNotNull()).count()"
   ]
  },
  {
   "cell_type": "code",
   "execution_count": 48,
   "id": "b34e686f-c4b3-4ce6-851c-97093da25d4b",
   "metadata": {},
   "outputs": [
    {
     "name": "stderr",
     "output_type": "stream",
     "text": [
      "                                                                                \r"
     ]
    },
    {
     "data": {
      "text/plain": [
       "55033779"
      ]
     },
     "execution_count": 48,
     "metadata": {},
     "output_type": "execute_result"
    }
   ],
   "source": [
    "taxi_all_years.filter(taxi_all_years[\"dropoff_census_tract\"].isNotNull()).count()"
   ]
  },
  {
   "cell_type": "code",
   "execution_count": 45,
   "id": "2e86b27d-3571-4330-9fe4-ded0c49426cb",
   "metadata": {},
   "outputs": [
    {
     "name": "stderr",
     "output_type": "stream",
     "text": [
      "                                                                                \r"
     ]
    },
    {
     "data": {
      "text/plain": [
       "99667058"
      ]
     },
     "execution_count": 45,
     "metadata": {},
     "output_type": "execute_result"
    }
   ],
   "source": [
    "taxi_all_years.count()"
   ]
  },
  {
   "cell_type": "code",
   "execution_count": null,
   "id": "e449e690-179a-472a-9145-657ee8bb80a4",
   "metadata": {},
   "outputs": [],
   "source": []
  }
 ],
 "metadata": {
  "kernelspec": {
   "display_name": "PySpark",
   "language": "python",
   "name": "pyspark"
  },
  "language_info": {
   "codemirror_mode": {
    "name": "ipython",
    "version": 3
   },
   "file_extension": ".py",
   "mimetype": "text/x-python",
   "name": "python",
   "nbconvert_exporter": "python",
   "pygments_lexer": "ipython3",
   "version": "3.10.8"
  }
 },
 "nbformat": 4,
 "nbformat_minor": 5
}
